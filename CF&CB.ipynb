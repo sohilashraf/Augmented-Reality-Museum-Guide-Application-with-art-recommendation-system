{
  "nbformat": 4,
  "nbformat_minor": 0,
  "metadata": {
    "colab": {
      "provenance": []
    },
    "kernelspec": {
      "name": "python3",
      "display_name": "Python 3"
    },
    "language_info": {
      "name": "python"
    }
  },
  "cells": [
    {
      "cell_type": "code",
      "execution_count": null,
      "metadata": {
        "id": "XCxLIRFeVOTj"
      },
      "outputs": [],
      "source": [
        "import pandas as pd\n",
        "import numpy as np\n",
        "import pickle as pkl\n",
        "from sklearn.preprocessing import LabelEncoder\n",
        "from sklearn.model_selection import train_test_split\n",
        "from sklearn.metrics import accuracy_score, precision_score, recall_score, roc_auc_score\n",
        "from tensorflow.keras.models import Model\n",
        "from tensorflow.keras.layers import Input, Embedding, Flatten, Dense, Concatenate\n",
        "from tensorflow.keras.optimizers import Adam\n",
        "\n",
        "ratings_df = pd.read_csv(\"bbalanced_simulated_ratings_50_users_renamed.csv\")\n",
        "exhibits_df = pd.read_excel(\"data set - New.xlsx\")\n",
        "\n",
        "ratings_df = ratings_df.dropna(subset=['user_id', 'exhibit_id', 'rating'])\n",
        "ratings_df['rating'] = ratings_df['rating'].astype(int)\n",
        "\n",
        "user_encoder = LabelEncoder()\n",
        "item_encoder = LabelEncoder()\n",
        "ratings_df['user_id_encoded'] = user_encoder.fit_transform(ratings_df['user_id'])\n",
        "ratings_df['item_id_encoded'] = item_encoder.fit_transform(ratings_df['exhibit_id'])\n",
        "\n",
        "num_users = ratings_df['user_id_encoded'].nunique()\n",
        "num_items = ratings_df['item_id_encoded'].nunique()\n",
        "\n",
        "train_df, test_df = train_test_split(ratings_df, test_size=0.2, random_state=42, stratify=ratings_df['user_id_encoded'])\n",
        "train_df, val_df = train_test_split(train_df, test_size=0.2, random_state=42)\n",
        "\n",
        "def prepare_inputs_cf(data):\n",
        "    return [np.array(data['user_id_encoded']), np.array(data['item_id_encoded'])], np.array(data['rating']).astype('float32')\n",
        "\n",
        "train_inputs, train_labels = prepare_inputs_cf(train_df)\n",
        "val_inputs, val_labels = prepare_inputs_cf(val_df)\n",
        "test_inputs, test_labels = prepare_inputs_cf(test_df)\n",
        "\n",
        "user_input = Input(shape=(1,))\n",
        "item_input = Input(shape=(1,))\n",
        "user_emb = Flatten()(Embedding(num_users, 64)(user_input))\n",
        "item_emb = Flatten()(Embedding(num_items, 64)(item_input))\n",
        "x = Concatenate()([user_emb, item_emb])\n",
        "x = Dense(128, activation='relu')(x)\n",
        "x = Dense(64, activation='relu')(x)\n",
        "output = Dense(1, activation='sigmoid')(x)\n",
        "\n",
        "model_cf = Model([user_input, item_input], output)\n",
        "model_cf.compile(optimizer=Adam(0.001), loss='binary_crossentropy', metrics=['accuracy'])\n",
        "\n",
        "model_cf.fit(train_inputs, train_labels, validation_data=(val_inputs, val_labels), epochs=50, batch_size=32)\n",
        "\n",
        "y_probs_cf = model_cf.predict(test_inputs)\n",
        "y_preds_cf = (y_probs_cf >= 0.5).astype(int).flatten()\n",
        "\n",
        "def evaluate(y_true, y_pred, y_prob):\n",
        "    precision = precision_score(y_true, y_pred)\n",
        "    recall = recall_score(y_true, y_pred)\n",
        "    accuracy = accuracy_score(y_true, y_pred)\n",
        "    auc = roc_auc_score(y_true, y_prob)\n",
        "    f1 = 2 * (precision * recall) / (precision + recall + 1e-10)\n",
        "    print(f\"Accuracy:  {accuracy:.4f}\")\n",
        "    print(f\"Precision: {precision:.4f}\")\n",
        "    print(f\"Recall:    {recall:.4f}\")\n",
        "    print(f\"AUC:       {auc:.4f}\")\n",
        "    print(f\"F1 Score:  {f1:.4f}\")\n",
        "\n",
        "evaluate(test_labels, y_preds_cf, y_probs_cf)\n"
      ]
    },
    {
      "cell_type": "code",
      "source": [
        "model_cf.save(\"model_collaborative.h5\")"
      ],
      "metadata": {
        "colab": {
          "base_uri": "https://localhost:8080/"
        },
        "id": "9p0kZWMnVnmc",
        "outputId": "cd5c3916-c3db-46d8-d806-e2320803d838"
      },
      "execution_count": null,
      "outputs": [
        {
          "output_type": "stream",
          "name": "stderr",
          "text": [
            "WARNING:absl:You are saving your model as an HDF5 file via `model.save()` or `keras.saving.save_model(model)`. This file format is considered legacy. We recommend using instead the native Keras format, e.g. `model.save('my_model.keras')` or `keras.saving.save_model(model, 'my_model.keras')`. \n"
          ]
        }
      ]
    },
    {
      "cell_type": "code",
      "source": [],
      "metadata": {
        "id": "v7bctZ9MkQiV"
      },
      "execution_count": null,
      "outputs": []
    },
    {
      "cell_type": "code",
      "source": [],
      "metadata": {
        "id": "iYG2QvFKkQex"
      },
      "execution_count": null,
      "outputs": []
    },
    {
      "cell_type": "code",
      "source": [],
      "metadata": {
        "id": "d6WnG9hvkQcC"
      },
      "execution_count": null,
      "outputs": []
    },
    {
      "cell_type": "code",
      "source": [],
      "metadata": {
        "id": "iA4WVn1-WfDT"
      },
      "execution_count": null,
      "outputs": []
    },
    {
      "cell_type": "code",
      "source": [
        "import pandas as pd\n",
        "import numpy as np\n",
        "import pickle as pkl\n",
        "from sklearn.preprocessing import OneHotEncoder\n",
        "from sklearn.model_selection import train_test_split\n",
        "from sklearn.metrics import accuracy_score, precision_score, recall_score, roc_auc_score\n",
        "from transformers import BertTokenizer, TFBertModel\n",
        "from tensorflow.keras.models import Model\n",
        "from tensorflow.keras.layers import Input, Dense\n",
        "from tensorflow.keras.optimizers import Adam\n",
        "import tensorflow as tf\n",
        "\n",
        "ratings_df = pd.read_csv(\"bbalanced_simulated_ratings_50_users_renamed.csv\")\n",
        "exhibits_df = pd.read_excel(\"data set - New.xlsx\")\n",
        "with open(\"all_image_features1.pkl\", \"rb\") as f:\n",
        "    image_features_dict = pkl.load(f)\n",
        "\n",
        "exhibits_df = exhibits_df[['Exhibit_id', 'exhibits', 'Text in English', 'Category', 'Time Period']].dropna()\n",
        "\n",
        "image_features = []\n",
        "for name in exhibits_df['exhibits']:\n",
        "    if name in image_features_dict and len(image_features_dict[name]) > 0:\n",
        "        vectors = [entry['feature'] for entry in image_features_dict[name]]\n",
        "        avg_vector = np.mean(np.stack(vectors), axis=0)\n",
        "    else:\n",
        "        avg_vector = np.zeros(2048)\n",
        "    image_features.append(avg_vector)\n",
        "image_features = np.array(image_features)\n",
        "image_features /= np.linalg.norm(image_features, axis=1, keepdims=True) + 1e-10\n",
        "\n",
        "tokenizer = BertTokenizer.from_pretrained('bert-base-uncased')\n",
        "bert_model = TFBertModel.from_pretrained('bert-base-uncased')\n",
        "texts = exhibits_df['Text in English'].astype(str).tolist()\n",
        "tokens = tokenizer(texts, padding='max_length', truncation=True, max_length=128, return_tensors=\"tf\")\n",
        "bert_output = bert_model(input_ids=tokens['input_ids'], attention_mask=tokens['attention_mask'])\n",
        "text_embeddings = bert_output.last_hidden_state[:, 0, :].numpy()\n",
        "\n",
        "encoder = OneHotEncoder(sparse_output=False)\n",
        "category_encoded = encoder.fit_transform(exhibits_df[['Category']])\n",
        "time_encoded = encoder.fit_transform(exhibits_df[['Time Period']])\n",
        "\n",
        "combined_features = np.concatenate([text_embeddings, category_encoded, time_encoded, image_features], axis=1)\n",
        "\n",
        "exhibit_to_vector = dict(zip(exhibits_df['Exhibit_id'], combined_features))\n",
        "ratings_df['features'] = ratings_df['exhibit_id'].map(exhibit_to_vector)\n",
        "ratings_df.dropna(subset=['features'], inplace=True)\n",
        "\n",
        "train_df, test_df = train_test_split(ratings_df, test_size=0.2, random_state=42, stratify=ratings_df['user_id'])\n",
        "train_df, val_df = train_test_split(train_df, test_size=0.2, random_state=42)\n",
        "\n",
        "def prepare_inputs_cb(data):\n",
        "    return np.stack(data['features'].values), np.array(data['rating']).astype('float32')\n",
        "\n",
        "train_inputs, train_labels = prepare_inputs_cb(train_df)\n",
        "val_inputs, val_labels = prepare_inputs_cb(val_df)\n",
        "test_inputs, test_labels = prepare_inputs_cb(test_df)\n",
        "\n",
        "input_features = Input(shape=(combined_features.shape[1],))\n",
        "x = Dense(256, activation='relu')(input_features)\n",
        "x = Dense(128, activation='relu')(x)\n",
        "x = Dense(64, activation='relu')(x)\n",
        "output = Dense(1, activation='sigmoid')(x)\n",
        "\n",
        "model_cb = Model(input_features, output)\n",
        "model_cb.compile(optimizer=Adam(0.001), loss='binary_crossentropy', metrics=['accuracy'])\n",
        "\n",
        "# --- 9. Train ---\n",
        "model_cb.fit(train_inputs, train_labels, validation_data=(val_inputs, val_labels), epochs=50, batch_size=32)\n",
        "\n",
        "# --- 10. Evaluate ---\n",
        "y_probs_cb = model_cb.predict(test_inputs)\n",
        "y_preds_cb = (y_probs_cb >= 0.5).astype(int).flatten()\n",
        "\n",
        "evaluate(test_labels, y_preds_cb, y_probs_cb)\n"
      ],
      "metadata": {
        "colab": {
          "base_uri": "https://localhost:8080/"
        },
        "id": "TdTmIIyeWe_s",
        "outputId": "5257ebb8-9e66-4598-9423-f4ec4f563fa1"
      },
      "execution_count": null,
      "outputs": [
        {
          "output_type": "stream",
          "name": "stderr",
          "text": [
            "Some weights of the PyTorch model were not used when initializing the TF 2.0 model TFBertModel: ['cls.predictions.transform.LayerNorm.weight', 'cls.seq_relationship.bias', 'cls.seq_relationship.weight', 'cls.predictions.transform.dense.bias', 'cls.predictions.transform.LayerNorm.bias', 'cls.predictions.bias', 'cls.predictions.transform.dense.weight']\n",
            "- This IS expected if you are initializing TFBertModel from a PyTorch model trained on another task or with another architecture (e.g. initializing a TFBertForSequenceClassification model from a BertForPreTraining model).\n",
            "- This IS NOT expected if you are initializing TFBertModel from a PyTorch model that you expect to be exactly identical (e.g. initializing a TFBertForSequenceClassification model from a BertForSequenceClassification model).\n",
            "All the weights of TFBertModel were initialized from the PyTorch model.\n",
            "If your task is similar to the task the model of the checkpoint was trained on, you can already use TFBertModel for predictions without further training.\n"
          ]
        },
        {
          "output_type": "stream",
          "name": "stdout",
          "text": [
            "Epoch 1/50\n",
            "\u001b[1m20/20\u001b[0m \u001b[32m━━━━━━━━━━━━━━━━━━━━\u001b[0m\u001b[37m\u001b[0m \u001b[1m3s\u001b[0m 34ms/step - accuracy: 0.5426 - loss: 0.6882 - val_accuracy: 0.5688 - val_loss: 0.6717\n",
            "Epoch 2/50\n",
            "\u001b[1m20/20\u001b[0m \u001b[32m━━━━━━━━━━━━━━━━━━━━\u001b[0m\u001b[37m\u001b[0m \u001b[1m0s\u001b[0m 19ms/step - accuracy: 0.6147 - loss: 0.6648 - val_accuracy: 0.6125 - val_loss: 0.6806\n",
            "Epoch 3/50\n",
            "\u001b[1m20/20\u001b[0m \u001b[32m━━━━━━━━━━━━━━━━━━━━\u001b[0m\u001b[37m\u001b[0m \u001b[1m1s\u001b[0m 20ms/step - accuracy: 0.6477 - loss: 0.6389 - val_accuracy: 0.6125 - val_loss: 0.6761\n",
            "Epoch 4/50\n",
            "\u001b[1m20/20\u001b[0m \u001b[32m━━━━━━━━━━━━━━━━━━━━\u001b[0m\u001b[37m\u001b[0m \u001b[1m0s\u001b[0m 19ms/step - accuracy: 0.6829 - loss: 0.6131 - val_accuracy: 0.6000 - val_loss: 0.6838\n",
            "Epoch 5/50\n",
            "\u001b[1m20/20\u001b[0m \u001b[32m━━━━━━━━━━━━━━━━━━━━\u001b[0m\u001b[37m\u001b[0m \u001b[1m1s\u001b[0m 13ms/step - accuracy: 0.6413 - loss: 0.6436 - val_accuracy: 0.5750 - val_loss: 0.7137\n",
            "Epoch 6/50\n",
            "\u001b[1m20/20\u001b[0m \u001b[32m━━━━━━━━━━━━━━━━━━━━\u001b[0m\u001b[37m\u001b[0m \u001b[1m0s\u001b[0m 14ms/step - accuracy: 0.6369 - loss: 0.6389 - val_accuracy: 0.5875 - val_loss: 0.7086\n",
            "Epoch 7/50\n",
            "\u001b[1m20/20\u001b[0m \u001b[32m━━━━━━━━━━━━━━━━━━━━\u001b[0m\u001b[37m\u001b[0m \u001b[1m0s\u001b[0m 14ms/step - accuracy: 0.7040 - loss: 0.5958 - val_accuracy: 0.5750 - val_loss: 0.7089\n",
            "Epoch 8/50\n",
            "\u001b[1m20/20\u001b[0m \u001b[32m━━━━━━━━━━━━━━━━━━━━\u001b[0m\u001b[37m\u001b[0m \u001b[1m0s\u001b[0m 13ms/step - accuracy: 0.6966 - loss: 0.6015 - val_accuracy: 0.6250 - val_loss: 0.7181\n",
            "Epoch 9/50\n",
            "\u001b[1m20/20\u001b[0m \u001b[32m━━━━━━━━━━━━━━━━━━━━\u001b[0m\u001b[37m\u001b[0m \u001b[1m0s\u001b[0m 13ms/step - accuracy: 0.6881 - loss: 0.6071 - val_accuracy: 0.5813 - val_loss: 0.7602\n",
            "Epoch 10/50\n",
            "\u001b[1m20/20\u001b[0m \u001b[32m━━━━━━━━━━━━━━━━━━━━\u001b[0m\u001b[37m\u001b[0m \u001b[1m0s\u001b[0m 13ms/step - accuracy: 0.7044 - loss: 0.5929 - val_accuracy: 0.6062 - val_loss: 0.7094\n",
            "Epoch 11/50\n",
            "\u001b[1m20/20\u001b[0m \u001b[32m━━━━━━━━━━━━━━━━━━━━\u001b[0m\u001b[37m\u001b[0m \u001b[1m0s\u001b[0m 14ms/step - accuracy: 0.6748 - loss: 0.6114 - val_accuracy: 0.5750 - val_loss: 0.7272\n",
            "Epoch 12/50\n",
            "\u001b[1m20/20\u001b[0m \u001b[32m━━━━━━━━━━━━━━━━━━━━\u001b[0m\u001b[37m\u001b[0m \u001b[1m0s\u001b[0m 14ms/step - accuracy: 0.6808 - loss: 0.6047 - val_accuracy: 0.6125 - val_loss: 0.7539\n",
            "Epoch 13/50\n",
            "\u001b[1m20/20\u001b[0m \u001b[32m━━━━━━━━━━━━━━━━━━━━\u001b[0m\u001b[37m\u001b[0m \u001b[1m0s\u001b[0m 14ms/step - accuracy: 0.6795 - loss: 0.6274 - val_accuracy: 0.6125 - val_loss: 0.7402\n",
            "Epoch 14/50\n",
            "\u001b[1m20/20\u001b[0m \u001b[32m━━━━━━━━━━━━━━━━━━━━\u001b[0m\u001b[37m\u001b[0m \u001b[1m0s\u001b[0m 16ms/step - accuracy: 0.6903 - loss: 0.5974 - val_accuracy: 0.6125 - val_loss: 0.7382\n",
            "Epoch 15/50\n",
            "\u001b[1m20/20\u001b[0m \u001b[32m━━━━━━━━━━━━━━━━━━━━\u001b[0m\u001b[37m\u001b[0m \u001b[1m1s\u001b[0m 14ms/step - accuracy: 0.6540 - loss: 0.6318 - val_accuracy: 0.6125 - val_loss: 0.7620\n",
            "Epoch 16/50\n",
            "\u001b[1m20/20\u001b[0m \u001b[32m━━━━━━━━━━━━━━━━━━━━\u001b[0m\u001b[37m\u001b[0m \u001b[1m0s\u001b[0m 14ms/step - accuracy: 0.7115 - loss: 0.5882 - val_accuracy: 0.5938 - val_loss: 0.7267\n",
            "Epoch 17/50\n",
            "\u001b[1m20/20\u001b[0m \u001b[32m━━━━━━━━━━━━━━━━━━━━\u001b[0m\u001b[37m\u001b[0m \u001b[1m0s\u001b[0m 16ms/step - accuracy: 0.6599 - loss: 0.6280 - val_accuracy: 0.6125 - val_loss: 0.7973\n",
            "Epoch 18/50\n",
            "\u001b[1m20/20\u001b[0m \u001b[32m━━━━━━━━━━━━━━━━━━━━\u001b[0m\u001b[37m\u001b[0m \u001b[1m1s\u001b[0m 22ms/step - accuracy: 0.7009 - loss: 0.5931 - val_accuracy: 0.6125 - val_loss: 0.7283\n",
            "Epoch 19/50\n",
            "\u001b[1m20/20\u001b[0m \u001b[32m━━━━━━━━━━━━━━━━━━━━\u001b[0m\u001b[37m\u001b[0m \u001b[1m1s\u001b[0m 20ms/step - accuracy: 0.6707 - loss: 0.6083 - val_accuracy: 0.6125 - val_loss: 0.7291\n",
            "Epoch 20/50\n",
            "\u001b[1m20/20\u001b[0m \u001b[32m━━━━━━━━━━━━━━━━━━━━\u001b[0m\u001b[37m\u001b[0m \u001b[1m1s\u001b[0m 23ms/step - accuracy: 0.6755 - loss: 0.6074 - val_accuracy: 0.5813 - val_loss: 0.8100\n",
            "Epoch 21/50\n",
            "\u001b[1m20/20\u001b[0m \u001b[32m━━━━━━━━━━━━━━━━━━━━\u001b[0m\u001b[37m\u001b[0m \u001b[1m1s\u001b[0m 20ms/step - accuracy: 0.6745 - loss: 0.6211 - val_accuracy: 0.5688 - val_loss: 0.7430\n",
            "Epoch 22/50\n",
            "\u001b[1m20/20\u001b[0m \u001b[32m━━━━━━━━━━━━━━━━━━━━\u001b[0m\u001b[37m\u001b[0m \u001b[1m1s\u001b[0m 20ms/step - accuracy: 0.6616 - loss: 0.6185 - val_accuracy: 0.6125 - val_loss: 0.7398\n",
            "Epoch 23/50\n",
            "\u001b[1m20/20\u001b[0m \u001b[32m━━━━━━━━━━━━━━━━━━━━\u001b[0m\u001b[37m\u001b[0m \u001b[1m1s\u001b[0m 19ms/step - accuracy: 0.7013 - loss: 0.5943 - val_accuracy: 0.6000 - val_loss: 0.7403\n",
            "Epoch 24/50\n",
            "\u001b[1m20/20\u001b[0m \u001b[32m━━━━━━━━━━━━━━━━━━━━\u001b[0m\u001b[37m\u001b[0m \u001b[1m1s\u001b[0m 19ms/step - accuracy: 0.6761 - loss: 0.5994 - val_accuracy: 0.6125 - val_loss: 0.7683\n",
            "Epoch 25/50\n",
            "\u001b[1m20/20\u001b[0m \u001b[32m━━━━━━━━━━━━━━━━━━━━\u001b[0m\u001b[37m\u001b[0m \u001b[1m1s\u001b[0m 20ms/step - accuracy: 0.6683 - loss: 0.6097 - val_accuracy: 0.6000 - val_loss: 0.7484\n",
            "Epoch 26/50\n",
            "\u001b[1m20/20\u001b[0m \u001b[32m━━━━━━━━━━━━━━━━━━━━\u001b[0m\u001b[37m\u001b[0m \u001b[1m1s\u001b[0m 20ms/step - accuracy: 0.6660 - loss: 0.6095 - val_accuracy: 0.6125 - val_loss: 0.7402\n",
            "Epoch 27/50\n",
            "\u001b[1m20/20\u001b[0m \u001b[32m━━━━━━━━━━━━━━━━━━━━\u001b[0m\u001b[37m\u001b[0m \u001b[1m0s\u001b[0m 20ms/step - accuracy: 0.7148 - loss: 0.5806 - val_accuracy: 0.6125 - val_loss: 0.7342\n",
            "Epoch 28/50\n",
            "\u001b[1m20/20\u001b[0m \u001b[32m━━━━━━━━━━━━━━━━━━━━\u001b[0m\u001b[37m\u001b[0m \u001b[1m0s\u001b[0m 19ms/step - accuracy: 0.6828 - loss: 0.6038 - val_accuracy: 0.6125 - val_loss: 0.7717\n",
            "Epoch 29/50\n",
            "\u001b[1m20/20\u001b[0m \u001b[32m━━━━━━━━━━━━━━━━━━━━\u001b[0m\u001b[37m\u001b[0m \u001b[1m1s\u001b[0m 15ms/step - accuracy: 0.6720 - loss: 0.5956 - val_accuracy: 0.6125 - val_loss: 0.7518\n",
            "Epoch 30/50\n",
            "\u001b[1m20/20\u001b[0m \u001b[32m━━━━━━━━━━━━━━━━━━━━\u001b[0m\u001b[37m\u001b[0m \u001b[1m1s\u001b[0m 14ms/step - accuracy: 0.6889 - loss: 0.5980 - val_accuracy: 0.6125 - val_loss: 0.7475\n",
            "Epoch 31/50\n",
            "\u001b[1m20/20\u001b[0m \u001b[32m━━━━━━━━━━━━━━━━━━━━\u001b[0m\u001b[37m\u001b[0m \u001b[1m0s\u001b[0m 14ms/step - accuracy: 0.7076 - loss: 0.5792 - val_accuracy: 0.5875 - val_loss: 0.7409\n",
            "Epoch 32/50\n",
            "\u001b[1m20/20\u001b[0m \u001b[32m━━━━━━━━━━━━━━━━━━━━\u001b[0m\u001b[37m\u001b[0m \u001b[1m0s\u001b[0m 14ms/step - accuracy: 0.6948 - loss: 0.5868 - val_accuracy: 0.6125 - val_loss: 0.7564\n",
            "Epoch 33/50\n",
            "\u001b[1m20/20\u001b[0m \u001b[32m━━━━━━━━━━━━━━━━━━━━\u001b[0m\u001b[37m\u001b[0m \u001b[1m0s\u001b[0m 14ms/step - accuracy: 0.7184 - loss: 0.5727 - val_accuracy: 0.6000 - val_loss: 0.7451\n",
            "Epoch 34/50\n",
            "\u001b[1m20/20\u001b[0m \u001b[32m━━━━━━━━━━━━━━━━━━━━\u001b[0m\u001b[37m\u001b[0m \u001b[1m1s\u001b[0m 15ms/step - accuracy: 0.6915 - loss: 0.5933 - val_accuracy: 0.6125 - val_loss: 0.7543\n",
            "Epoch 35/50\n",
            "\u001b[1m20/20\u001b[0m \u001b[32m━━━━━━━━━━━━━━━━━━━━\u001b[0m\u001b[37m\u001b[0m \u001b[1m1s\u001b[0m 15ms/step - accuracy: 0.6800 - loss: 0.6085 - val_accuracy: 0.6125 - val_loss: 0.7548\n",
            "Epoch 36/50\n",
            "\u001b[1m20/20\u001b[0m \u001b[32m━━━━━━━━━━━━━━━━━━━━\u001b[0m\u001b[37m\u001b[0m \u001b[1m1s\u001b[0m 19ms/step - accuracy: 0.6647 - loss: 0.6088 - val_accuracy: 0.6125 - val_loss: 0.7599\n",
            "Epoch 37/50\n",
            "\u001b[1m20/20\u001b[0m \u001b[32m━━━━━━━━━━━━━━━━━━━━\u001b[0m\u001b[37m\u001b[0m \u001b[1m1s\u001b[0m 20ms/step - accuracy: 0.7081 - loss: 0.5884 - val_accuracy: 0.6125 - val_loss: 0.7414\n",
            "Epoch 38/50\n",
            "\u001b[1m20/20\u001b[0m \u001b[32m━━━━━━━━━━━━━━━━━━━━\u001b[0m\u001b[37m\u001b[0m \u001b[1m1s\u001b[0m 19ms/step - accuracy: 0.6668 - loss: 0.6234 - val_accuracy: 0.6125 - val_loss: 0.7445\n",
            "Epoch 39/50\n",
            "\u001b[1m20/20\u001b[0m \u001b[32m━━━━━━━━━━━━━━━━━━━━\u001b[0m\u001b[37m\u001b[0m \u001b[1m1s\u001b[0m 21ms/step - accuracy: 0.6816 - loss: 0.6103 - val_accuracy: 0.6125 - val_loss: 0.7780\n",
            "Epoch 40/50\n",
            "\u001b[1m20/20\u001b[0m \u001b[32m━━━━━━━━━━━━━━━━━━━━\u001b[0m\u001b[37m\u001b[0m \u001b[1m1s\u001b[0m 23ms/step - accuracy: 0.6849 - loss: 0.6035 - val_accuracy: 0.6125 - val_loss: 0.7537\n",
            "Epoch 41/50\n",
            "\u001b[1m20/20\u001b[0m \u001b[32m━━━━━━━━━━━━━━━━━━━━\u001b[0m\u001b[37m\u001b[0m \u001b[1m0s\u001b[0m 22ms/step - accuracy: 0.6736 - loss: 0.6069 - val_accuracy: 0.6125 - val_loss: 0.7660\n",
            "Epoch 42/50\n",
            "\u001b[1m20/20\u001b[0m \u001b[32m━━━━━━━━━━━━━━━━━━━━\u001b[0m\u001b[37m\u001b[0m \u001b[1m1s\u001b[0m 27ms/step - accuracy: 0.6799 - loss: 0.5903 - val_accuracy: 0.6000 - val_loss: 0.7409\n",
            "Epoch 43/50\n",
            "\u001b[1m20/20\u001b[0m \u001b[32m━━━━━━━━━━━━━━━━━━━━\u001b[0m\u001b[37m\u001b[0m \u001b[1m1s\u001b[0m 31ms/step - accuracy: 0.7133 - loss: 0.5773 - val_accuracy: 0.6125 - val_loss: 0.7406\n",
            "Epoch 44/50\n",
            "\u001b[1m20/20\u001b[0m \u001b[32m━━━━━━━━━━━━━━━━━━━━\u001b[0m\u001b[37m\u001b[0m \u001b[1m1s\u001b[0m 20ms/step - accuracy: 0.6918 - loss: 0.5848 - val_accuracy: 0.6125 - val_loss: 0.7780\n",
            "Epoch 45/50\n",
            "\u001b[1m20/20\u001b[0m \u001b[32m━━━━━━━━━━━━━━━━━━━━\u001b[0m\u001b[37m\u001b[0m \u001b[1m0s\u001b[0m 20ms/step - accuracy: 0.6905 - loss: 0.5939 - val_accuracy: 0.5938 - val_loss: 0.7349\n",
            "Epoch 46/50\n",
            "\u001b[1m20/20\u001b[0m \u001b[32m━━━━━━━━━━━━━━━━━━━━\u001b[0m\u001b[37m\u001b[0m \u001b[1m0s\u001b[0m 22ms/step - accuracy: 0.6622 - loss: 0.6047 - val_accuracy: 0.6125 - val_loss: 0.7639\n",
            "Epoch 47/50\n",
            "\u001b[1m20/20\u001b[0m \u001b[32m━━━━━━━━━━━━━━━━━━━━\u001b[0m\u001b[37m\u001b[0m \u001b[1m1s\u001b[0m 20ms/step - accuracy: 0.7137 - loss: 0.5811 - val_accuracy: 0.5938 - val_loss: 0.7522\n",
            "Epoch 48/50\n",
            "\u001b[1m20/20\u001b[0m \u001b[32m━━━━━━━━━━━━━━━━━━━━\u001b[0m\u001b[37m\u001b[0m \u001b[1m0s\u001b[0m 20ms/step - accuracy: 0.6811 - loss: 0.5994 - val_accuracy: 0.6125 - val_loss: 0.7845\n",
            "Epoch 49/50\n",
            "\u001b[1m20/20\u001b[0m \u001b[32m━━━━━━━━━━━━━━━━━━━━\u001b[0m\u001b[37m\u001b[0m \u001b[1m0s\u001b[0m 19ms/step - accuracy: 0.6605 - loss: 0.6148 - val_accuracy: 0.6125 - val_loss: 0.7559\n",
            "Epoch 50/50\n",
            "\u001b[1m20/20\u001b[0m \u001b[32m━━━━━━━━━━━━━━━━━━━━\u001b[0m\u001b[37m\u001b[0m \u001b[1m1s\u001b[0m 21ms/step - accuracy: 0.7038 - loss: 0.5851 - val_accuracy: 0.6125 - val_loss: 0.7401\n"
          ]
        },
        {
          "output_type": "stream",
          "name": "stderr",
          "text": [
            "WARNING:tensorflow:5 out of the last 15 calls to <function TensorFlowTrainer.make_predict_function.<locals>.one_step_on_data_distributed at 0x7b73e47d27a0> triggered tf.function retracing. Tracing is expensive and the excessive number of tracings could be due to (1) creating @tf.function repeatedly in a loop, (2) passing tensors with different shapes, (3) passing Python objects instead of tensors. For (1), please define your @tf.function outside of the loop. For (2), @tf.function has reduce_retracing=True option that can avoid unnecessary retracing. For (3), please refer to https://www.tensorflow.org/guide/function#controlling_retracing and https://www.tensorflow.org/api_docs/python/tf/function for  more details.\n"
          ]
        },
        {
          "output_type": "stream",
          "name": "stdout",
          "text": [
            "\u001b[1m7/7\u001b[0m \u001b[32m━━━━━━━━━━━━━━━━━━━━\u001b[0m\u001b[37m\u001b[0m \u001b[1m0s\u001b[0m 15ms/step\n",
            "Accuracy:  0.5800\n",
            "Precision: 0.5714\n",
            "Recall:    0.5361\n",
            "AUC:       0.6244\n",
            "F1 Score:  0.5532\n"
          ]
        }
      ]
    },
    {
      "cell_type": "code",
      "source": [
        "model_cb.save(\"model_content_based.h5\")\n"
      ],
      "metadata": {
        "colab": {
          "base_uri": "https://localhost:8080/"
        },
        "id": "PPe-dymaWe9y",
        "outputId": "5604a367-4894-4176-f114-028a6c5fb594"
      },
      "execution_count": null,
      "outputs": [
        {
          "output_type": "stream",
          "name": "stderr",
          "text": [
            "WARNING:absl:You are saving your model as an HDF5 file via `model.save()` or `keras.saving.save_model(model)`. This file format is considered legacy. We recommend using instead the native Keras format, e.g. `model.save('my_model.keras')` or `keras.saving.save_model(model, 'my_model.keras')`. \n"
          ]
        }
      ]
    },
    {
      "cell_type": "code",
      "source": [
        "from tensorflow.keras.models import load_model\n",
        "\n",
        "# Load models\n",
        "model_cf = load_model(\"model_collaborative.h5\")\n",
        "model_cb = load_model(\"model_content_based.h5\")\n"
      ],
      "metadata": {
        "colab": {
          "base_uri": "https://localhost:8080/"
        },
        "id": "b-En63xHkrF4",
        "outputId": "73b0df7e-1524-44a0-89bd-785ca33d6f98"
      },
      "execution_count": null,
      "outputs": [
        {
          "output_type": "stream",
          "name": "stderr",
          "text": [
            "WARNING:absl:Compiled the loaded model, but the compiled metrics have yet to be built. `model.compile_metrics` will be empty until you train or evaluate the model.\n",
            "WARNING:absl:Compiled the loaded model, but the compiled metrics have yet to be built. `model.compile_metrics` will be empty until you train or evaluate the model.\n"
          ]
        }
      ]
    },
    {
      "cell_type": "code",
      "source": [],
      "metadata": {
        "id": "qz6LWnE2mhYd"
      },
      "execution_count": null,
      "outputs": []
    }
  ]
}